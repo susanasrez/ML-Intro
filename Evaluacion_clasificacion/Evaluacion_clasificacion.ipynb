{
 "cells": [
  {
   "attachments": {},
   "cell_type": "markdown",
   "metadata": {},
   "source": [
    "# Práctica 12: Evaluación en clasificación..\n",
    "\n",
    "## Realizado por:\n",
    "- Susana Suárez Mendoza\n",
    "- Mara Pareja del Pino"
   ]
  },
  {
   "cell_type": "code",
   "execution_count": 1,
   "metadata": {},
   "outputs": [],
   "source": [
    "import pandas as pd\n",
    "from sklearn import tree, model_selection, metrics, linear_model\n",
    "import matplotlib.pyplot as plt\n",
    "import numpy as np"
   ]
  },
  {
   "attachments": {},
   "cell_type": "markdown",
   "metadata": {},
   "source": [
    "### Ejercicio 1: Estimación del valor de las casas."
   ]
  },
  {
   "cell_type": "code",
   "execution_count": 2,
   "metadata": {},
   "outputs": [],
   "source": [
    "data_csv = pd.read_csv('./precio_casas.csv', sep = ';')"
   ]
  },
  {
   "cell_type": "code",
   "execution_count": 3,
   "metadata": {},
   "outputs": [],
   "source": [
    "y = data_csv.iloc[:, -1].to_numpy()\n",
    "X = data_csv.iloc[:, :-1].to_numpy()"
   ]
  },
  {
   "attachments": {},
   "cell_type": "markdown",
   "metadata": {},
   "source": [
    "1. Obtener el rendimiento de árbol de regresión mediante la técnica de división repetida (holdout\n",
    "repetido), para los diferentes criterio de división de nodos que posee la clase.\n"
   ]
  },
  {
   "cell_type": "code",
   "execution_count": 4,
   "metadata": {},
   "outputs": [
    {
     "data": {
      "text/html": [
       "<div>\n",
       "<style scoped>\n",
       "    .dataframe tbody tr th:only-of-type {\n",
       "        vertical-align: middle;\n",
       "    }\n",
       "\n",
       "    .dataframe tbody tr th {\n",
       "        vertical-align: top;\n",
       "    }\n",
       "\n",
       "    .dataframe thead th {\n",
       "        text-align: right;\n",
       "    }\n",
       "</style>\n",
       "<table border=\"1\" class=\"dataframe\">\n",
       "  <thead>\n",
       "    <tr style=\"text-align: right;\">\n",
       "      <th></th>\n",
       "      <th>squared_error</th>\n",
       "      <th>friedman_mse</th>\n",
       "      <th>absolute_error</th>\n",
       "    </tr>\n",
       "  </thead>\n",
       "  <tbody>\n",
       "    <tr>\n",
       "      <th>0</th>\n",
       "      <td>58.3302</td>\n",
       "      <td>58.6380</td>\n",
       "      <td>55.8881</td>\n",
       "    </tr>\n",
       "    <tr>\n",
       "      <th>1</th>\n",
       "      <td>59.7645</td>\n",
       "      <td>58.9369</td>\n",
       "      <td>55.9698</td>\n",
       "    </tr>\n",
       "    <tr>\n",
       "      <th>2</th>\n",
       "      <td>60.0971</td>\n",
       "      <td>60.2620</td>\n",
       "      <td>57.9305</td>\n",
       "    </tr>\n",
       "    <tr>\n",
       "      <th>3</th>\n",
       "      <td>59.0905</td>\n",
       "      <td>59.0465</td>\n",
       "      <td>58.2271</td>\n",
       "    </tr>\n",
       "    <tr>\n",
       "      <th>4</th>\n",
       "      <td>61.8158</td>\n",
       "      <td>61.1426</td>\n",
       "      <td>58.0412</td>\n",
       "    </tr>\n",
       "    <tr>\n",
       "      <th>5</th>\n",
       "      <td>59.5716</td>\n",
       "      <td>59.6171</td>\n",
       "      <td>59.2589</td>\n",
       "    </tr>\n",
       "    <tr>\n",
       "      <th>6</th>\n",
       "      <td>61.1912</td>\n",
       "      <td>60.0320</td>\n",
       "      <td>59.2538</td>\n",
       "    </tr>\n",
       "    <tr>\n",
       "      <th>7</th>\n",
       "      <td>60.3699</td>\n",
       "      <td>60.4328</td>\n",
       "      <td>62.9664</td>\n",
       "    </tr>\n",
       "    <tr>\n",
       "      <th>8</th>\n",
       "      <td>58.9648</td>\n",
       "      <td>59.0426</td>\n",
       "      <td>57.6249</td>\n",
       "    </tr>\n",
       "    <tr>\n",
       "      <th>9</th>\n",
       "      <td>60.0568</td>\n",
       "      <td>59.6710</td>\n",
       "      <td>57.2756</td>\n",
       "    </tr>\n",
       "  </tbody>\n",
       "</table>\n",
       "</div>"
      ],
      "text/plain": [
       "   squared_error  friedman_mse  absolute_error\n",
       "0        58.3302       58.6380         55.8881\n",
       "1        59.7645       58.9369         55.9698\n",
       "2        60.0971       60.2620         57.9305\n",
       "3        59.0905       59.0465         58.2271\n",
       "4        61.8158       61.1426         58.0412\n",
       "5        59.5716       59.6171         59.2589\n",
       "6        61.1912       60.0320         59.2538\n",
       "7        60.3699       60.4328         62.9664\n",
       "8        58.9648       59.0426         57.6249\n",
       "9        60.0568       59.6710         57.2756"
      ]
     },
     "metadata": {},
     "output_type": "display_data"
    }
   ],
   "source": [
    "rendimientos = []\n",
    "criterios = ['squared_error', 'friedman_mse', 'absolute_error']\n",
    "modelos = []\n",
    "\n",
    "for i in range(1, 11):\n",
    "    X_train, X_test, y_train, y_test = model_selection.train_test_split(X, y, test_size=1/3)\n",
    "    filas = []\n",
    "\n",
    "    for criterio in criterios:\n",
    "        reg_tree = tree.DecisionTreeRegressor(criterion=str(criterio))\n",
    "        reg_tree.fit(X_train, y_train)\n",
    "        y_pred = reg_tree.predict(X_test)\n",
    "        filas.append(round(metrics.r2_score(y_test, y_pred)*100, 4))\n",
    "\n",
    "    rendimientos.append(filas)\n",
    "\n",
    "df_tree = pd.DataFrame(rendimientos, columns=criterios)\n",
    "display(df_tree)"
   ]
  },
  {
   "attachments": {},
   "cell_type": "markdown",
   "metadata": {},
   "source": [
    "2. Obtener el rendimiento de un modelo de regresión lineal mediante la técnica de división repetida (holdout repetido).\n"
   ]
  },
  {
   "cell_type": "code",
   "execution_count": 5,
   "metadata": {},
   "outputs": [
    {
     "data": {
      "text/html": [
       "<div>\n",
       "<style scoped>\n",
       "    .dataframe tbody tr th:only-of-type {\n",
       "        vertical-align: middle;\n",
       "    }\n",
       "\n",
       "    .dataframe tbody tr th {\n",
       "        vertical-align: top;\n",
       "    }\n",
       "\n",
       "    .dataframe thead th {\n",
       "        text-align: right;\n",
       "    }\n",
       "</style>\n",
       "<table border=\"1\" class=\"dataframe\">\n",
       "  <thead>\n",
       "    <tr style=\"text-align: right;\">\n",
       "      <th></th>\n",
       "      <th>squared_error</th>\n",
       "      <th>friedman_mse</th>\n",
       "      <th>absolute_error</th>\n",
       "    </tr>\n",
       "  </thead>\n",
       "  <tbody>\n",
       "    <tr>\n",
       "      <th>0</th>\n",
       "      <td>23.5584</td>\n",
       "      <td>103.4672</td>\n",
       "      <td>54.0683</td>\n",
       "    </tr>\n",
       "    <tr>\n",
       "      <th>1</th>\n",
       "      <td>60.2464</td>\n",
       "      <td>52.2535</td>\n",
       "      <td>53.1571</td>\n",
       "    </tr>\n",
       "    <tr>\n",
       "      <th>2</th>\n",
       "      <td>35.3317</td>\n",
       "      <td>86.2662</td>\n",
       "      <td>53.8266</td>\n",
       "    </tr>\n",
       "    <tr>\n",
       "      <th>3</th>\n",
       "      <td>60.4843</td>\n",
       "      <td>53.0890</td>\n",
       "      <td>52.7446</td>\n",
       "    </tr>\n",
       "    <tr>\n",
       "      <th>4</th>\n",
       "      <td>60.3523</td>\n",
       "      <td>52.3125</td>\n",
       "      <td>53.2476</td>\n",
       "    </tr>\n",
       "    <tr>\n",
       "      <th>5</th>\n",
       "      <td>59.5961</td>\n",
       "      <td>52.0509</td>\n",
       "      <td>52.6904</td>\n",
       "    </tr>\n",
       "    <tr>\n",
       "      <th>6</th>\n",
       "      <td>59.0004</td>\n",
       "      <td>53.7054</td>\n",
       "      <td>53.0899</td>\n",
       "    </tr>\n",
       "    <tr>\n",
       "      <th>7</th>\n",
       "      <td>60.1254</td>\n",
       "      <td>52.0907</td>\n",
       "      <td>52.9486</td>\n",
       "    </tr>\n",
       "    <tr>\n",
       "      <th>8</th>\n",
       "      <td>58.9564</td>\n",
       "      <td>54.7711</td>\n",
       "      <td>53.1015</td>\n",
       "    </tr>\n",
       "    <tr>\n",
       "      <th>9</th>\n",
       "      <td>61.0994</td>\n",
       "      <td>51.5581</td>\n",
       "      <td>52.9641</td>\n",
       "    </tr>\n",
       "  </tbody>\n",
       "</table>\n",
       "</div>"
      ],
      "text/plain": [
       "   squared_error  friedman_mse  absolute_error\n",
       "0        23.5584      103.4672         54.0683\n",
       "1        60.2464       52.2535         53.1571\n",
       "2        35.3317       86.2662         53.8266\n",
       "3        60.4843       53.0890         52.7446\n",
       "4        60.3523       52.3125         53.2476\n",
       "5        59.5961       52.0509         52.6904\n",
       "6        59.0004       53.7054         53.0899\n",
       "7        60.1254       52.0907         52.9486\n",
       "8        58.9564       54.7711         53.1015\n",
       "9        61.0994       51.5581         52.9641"
      ]
     },
     "metadata": {},
     "output_type": "display_data"
    }
   ],
   "source": [
    "rendimientos = []\n",
    "criterios = ['squared_error', 'friedman_mse', 'absolute_error']\n",
    "\n",
    "for i in range(1, 11):\n",
    "    filas = []\n",
    "    X_train, X_test, y_train, y_test = model_selection.train_test_split(X, y, test_size=1/3)\n",
    "\n",
    "    reg_lineal = linear_model.LinearRegression()\n",
    "    reg_lineal.fit(X_train, y_train)\n",
    "    y_pred = reg_lineal.predict(X_test)\n",
    "\n",
    "    filas.append(round(metrics.r2_score(y_test, y_pred)*100, 4))\n",
    "    filas.append(round(metrics.mean_squared_error(y_test, y_pred)*100, 4))\n",
    "    filas.append(round(metrics.mean_absolute_error(y_test, y_pred)*100, 4))\n",
    "\n",
    "    rendimientos.append(filas)\n",
    "\n",
    "df_lineal = pd.DataFrame(rendimientos, columns=criterios)\n",
    "display(df_lineal)"
   ]
  },
  {
   "attachments": {},
   "cell_type": "markdown",
   "metadata": {},
   "source": [
    "3. Comparar los resultados anteriores en función del valor medio y la desviación típica."
   ]
  },
  {
   "cell_type": "code",
   "execution_count": 6,
   "metadata": {},
   "outputs": [
    {
     "data": {
      "text/html": [
       "<div>\n",
       "<style scoped>\n",
       "    .dataframe tbody tr th:only-of-type {\n",
       "        vertical-align: middle;\n",
       "    }\n",
       "\n",
       "    .dataframe tbody tr th {\n",
       "        vertical-align: top;\n",
       "    }\n",
       "\n",
       "    .dataframe thead th {\n",
       "        text-align: right;\n",
       "    }\n",
       "</style>\n",
       "<table border=\"1\" class=\"dataframe\">\n",
       "  <thead>\n",
       "    <tr style=\"text-align: right;\">\n",
       "      <th></th>\n",
       "      <th>Media</th>\n",
       "      <th>Desviación típica</th>\n",
       "    </tr>\n",
       "  </thead>\n",
       "  <tbody>\n",
       "    <tr>\n",
       "      <th>Árbol de regresión</th>\n",
       "      <td>59.68215</td>\n",
       "      <td>0.790084</td>\n",
       "    </tr>\n",
       "    <tr>\n",
       "      <th>Regresión lineal</th>\n",
       "      <td>61.15646</td>\n",
       "      <td>18.247614</td>\n",
       "    </tr>\n",
       "  </tbody>\n",
       "</table>\n",
       "</div>"
      ],
      "text/plain": [
       "                       Media  Desviación típica\n",
       "Árbol de regresión  59.68215           0.790084\n",
       "Regresión lineal    61.15646          18.247614"
      ]
     },
     "metadata": {},
     "output_type": "display_data"
    }
   ],
   "source": [
    "mean_tree = df_tree['friedman_mse'].mean()\n",
    "mean_lineal = df_lineal['friedman_mse'].mean()\n",
    "\n",
    "std_tree = df_tree['friedman_mse'].std()\n",
    "std_lineal = df_lineal['friedman_mse'].std()\n",
    "\n",
    "df = pd.DataFrame({'Media': [mean_tree, mean_lineal], 'Desviación típica': [std_tree, std_lineal]}, index=['Árbol de regresión', 'Regresión lineal'])\n",
    "display(df)"
   ]
  },
  {
   "attachments": {},
   "cell_type": "markdown",
   "metadata": {},
   "source": [
    "Se observa que ambos modelos tienen una media similar, sin embargo, aquel modelo cuya desviación típica es menor, y por lo tanto obtiene un mejor resultado es el de árbol de regresión"
   ]
  },
  {
   "attachments": {},
   "cell_type": "markdown",
   "metadata": {},
   "source": [
    "### Ejercicio 2: Implementación de la validación cruzada"
   ]
  },
  {
   "cell_type": "code",
   "execution_count": 7,
   "metadata": {},
   "outputs": [],
   "source": [
    "def validacion_cv(n, n_particiones=5, mezclar=True, semilla=None):\n",
    "    particiones = []\n",
    "    indices = np.arange(n)\n",
    "\n",
    "    if mezclar:\n",
    "        np.random.seed(semilla)\n",
    "        np.random.shuffle(indices)\n",
    "   \n",
    "    grupos = np.array_split(indices, n_particiones)\n",
    "\n",
    "    for i in range(n_particiones):\n",
    "        test = grupos[i]\n",
    "        train = np.concatenate([grupos[j] for j in range(n_particiones) if j != i])\n",
    "\n",
    "        tuple = (train, test)\n",
    "        particiones.append(tuple)\n",
    "\n",
    "    return particiones"
   ]
  },
  {
   "cell_type": "code",
   "execution_count": 8,
   "metadata": {},
   "outputs": [
    {
     "name": "stdout",
     "output_type": "stream",
     "text": [
      "Media:  61.32\n",
      "Desviación típica:  1.71\n"
     ]
    }
   ],
   "source": [
    "indices = validacion_cv(len(X), n_particiones=5, semilla=12345)\n",
    "rendimientos = []\n",
    "\n",
    "for indice in indices:\n",
    "    X_train_ind = indice[0]\n",
    "    X_test_ind = indice[1]\n",
    "\n",
    "    X_train, X_test, y_train, y_test = X[X_train_ind], X[X_test_ind], y[X_train_ind], y[X_test_ind]\n",
    "\n",
    "    filas = []\n",
    "\n",
    "    reg_tree = tree.DecisionTreeRegressor(criterion='squared_error')\n",
    "    reg_tree.fit(X_train, y_train)\n",
    "    y_pred = reg_tree.predict(X_test)\n",
    "    filas.append(round(metrics.r2_score(y_test, y_pred)*100, 4))\n",
    "\n",
    "    rendimientos.append(filas)\n",
    "\n",
    "df_tree = pd.DataFrame(rendimientos, columns=['squared_error'])\n",
    "\n",
    "mean = df_tree['squared_error'].mean()\n",
    "std = df_tree['squared_error'].std()\n",
    "print('Media: ', round(mean, 2))\n",
    "print('Desviación típica: ', round(std, 2))\n"
   ]
  },
  {
   "attachments": {},
   "cell_type": "markdown",
   "metadata": {},
   "source": [
    "Finalmente tras usar Cross-Validation no observamos una diferencia significativa en los resultados, aunque al mejorar la media mejora el modelo."
   ]
  },
  {
   "cell_type": "code",
   "execution_count": 12,
   "metadata": {},
   "outputs": [
    {
     "name": "stdout",
     "output_type": "stream",
     "text": [
      "Media:  61.73\n",
      "Desviación típica:  1.23\n"
     ]
    }
   ],
   "source": [
    "model = tree.DecisionTreeRegressor(criterion='squared_error')\n",
    "k_fold = model_selection.KFold(n_splits=5, shuffle=True, random_state=12345)\n",
    "results = []\n",
    "for train, test in k_fold.split(X):\n",
    "    model.fit(X[train], y[train])\n",
    "    y_pred = model.predict(X[test])\n",
    "    results.append(round(metrics.r2_score(y[test], y_pred)*100, 4))\n",
    "\n",
    "df = pd.DataFrame(results, columns=['squared_error'])\n",
    "\n",
    "mean = df['squared_error'].mean()\n",
    "std = df['squared_error'].std()\n",
    "\n",
    "print('Media: ', round(mean, 2))\n",
    "print('Desviación típica: ', round(std, 2))"
   ]
  },
  {
   "attachments": {},
   "cell_type": "markdown",
   "metadata": {},
   "source": [
    "Además, si realizamos el mismo proceso pero utilizando Cross-Validation de scikit-learn el resultado es bastante similar."
   ]
  }
 ],
 "metadata": {
  "kernelspec": {
   "display_name": "aa1",
   "language": "python",
   "name": "python3"
  },
  "language_info": {
   "codemirror_mode": {
    "name": "ipython",
    "version": 3
   },
   "file_extension": ".py",
   "mimetype": "text/x-python",
   "name": "python",
   "nbconvert_exporter": "python",
   "pygments_lexer": "ipython3",
   "version": "3.10.9"
  },
  "orig_nbformat": 4
 },
 "nbformat": 4,
 "nbformat_minor": 2
}
