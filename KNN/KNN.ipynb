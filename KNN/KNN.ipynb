{
 "cells": [
  {
   "attachments": {},
   "cell_type": "markdown",
   "metadata": {},
   "source": [
    "# Práctica 7: Vecinos más cercanos.\n",
    "\n",
    "## Realizado por:\n",
    "- Susana Suárez Mendoza\n",
    "- Mara Pareja del Pino"
   ]
  },
  {
   "cell_type": "code",
   "execution_count": 1,
   "metadata": {},
   "outputs": [],
   "source": [
    "import pandas as pd\n",
    "import numpy as np\n",
    "from sklearn import model_selection, neighbors, preprocessing, metrics\n",
    "import time\n",
    "import matplotlib.pyplot as plt"
   ]
  },
  {
   "attachments": {},
   "cell_type": "markdown",
   "metadata": {},
   "source": [
    "### Ejercicio 1. Clasificación por vecinos más cercanos.\n"
   ]
  },
  {
   "attachments": {},
   "cell_type": "markdown",
   "metadata": {},
   "source": [
    "1. Dividir el conjunto de entrenamiento en entrenamiento (70%) y test (30%)."
   ]
  },
  {
   "cell_type": "code",
   "execution_count": 2,
   "metadata": {},
   "outputs": [],
   "source": [
    "data_csv= pd.read_csv('./datos/precio_casas_clasificacion.csv', sep = ',')\n",
    "df = data_csv.to_numpy()\n",
    "data_x = df[:, :-1]\n",
    "data_y = df[:, -1]\n",
    "\n",
    "X_train, X_test, y_train, y_test = model_selection.train_test_split(data_x, data_y, test_size=0.3, random_state=123)"
   ]
  },
  {
   "attachments": {},
   "cell_type": "markdown",
   "metadata": {},
   "source": [
    "2. Obtener la tasa de acierto con diferentes números de vecinos (n_neighbors) entre 1 y 20."
   ]
  },
  {
   "cell_type": "code",
   "execution_count": 3,
   "metadata": {},
   "outputs": [
    {
     "name": "stdout",
     "output_type": "stream",
     "text": [
      "Tasa de acierto con n_neighbors =  1  es:  35.95 %\n",
      "Tasa de acierto con n_neighbors =  2  es:  36.24 %\n",
      "Tasa de acierto con n_neighbors =  3  es:  35.84 %\n",
      "Tasa de acierto con n_neighbors =  4  es:  36.89 %\n",
      "Tasa de acierto con n_neighbors =  5  es:  38.13 %\n",
      "Tasa de acierto con n_neighbors =  6  es:  38.03 %\n",
      "Tasa de acierto con n_neighbors =  7  es:  38.21 %\n",
      "Tasa de acierto con n_neighbors =  8  es:  38.47 %\n",
      "Tasa de acierto con n_neighbors =  9  es:  38.58 %\n",
      "Tasa de acierto con n_neighbors =  10  es:  38.65 %\n",
      "Tasa de acierto con n_neighbors =  11  es:  38.7 %\n",
      "Tasa de acierto con n_neighbors =  12  es:  38.78 %\n",
      "Tasa de acierto con n_neighbors =  13  es:  39.05 %\n",
      "Tasa de acierto con n_neighbors =  14  es:  38.94 %\n",
      "Tasa de acierto con n_neighbors =  15  es:  38.73 %\n",
      "Tasa de acierto con n_neighbors =  16  es:  38.42 %\n",
      "Tasa de acierto con n_neighbors =  17  es:  38.47 %\n",
      "Tasa de acierto con n_neighbors =  18  es:  39.18 %\n",
      "Tasa de acierto con n_neighbors =  19  es:  38.87 %\n",
      "Tasa de acierto con n_neighbors =  20  es:  39.34 %\n"
     ]
    }
   ],
   "source": [
    "for i in range(1, 21):\n",
    "    clf = neighbors.KNeighborsClassifier(n_neighbors=i)\n",
    "    clf.fit(X_train, y_train)\n",
    "\n",
    "    accuracy = clf.score(X_test, y_test) * 100\n",
    "    print(\"Tasa de acierto con n_neighbors = \", i, \" es: \", round(accuracy,2), \"%\")"
   ]
  },
  {
   "attachments": {},
   "cell_type": "markdown",
   "metadata": {},
   "source": [
    "3. Repetir lo anterior pero antes escalando el valor de las características entre 0 y 1, para lo que se hará uso de la clase MinMaxScaler de la librería sklearn. Explicar si existe diferencia con los resultados del paso 2."
   ]
  },
  {
   "cell_type": "code",
   "execution_count": 4,
   "metadata": {},
   "outputs": [],
   "source": [
    "scaler = preprocessing.MinMaxScaler()\n",
    "X_train_scaled = scaler.fit_transform(X_train)\n",
    "X_test_scaled = scaler.transform(X_test)"
   ]
  },
  {
   "cell_type": "code",
   "execution_count": 5,
   "metadata": {},
   "outputs": [
    {
     "name": "stdout",
     "output_type": "stream",
     "text": [
      "Tasa de acierto con n_neighbors =  1  es:  58.87 %\n",
      "Tasa de acierto con n_neighbors =  2  es:  57.14 %\n",
      "Tasa de acierto con n_neighbors =  3  es:  60.42 %\n",
      "Tasa de acierto con n_neighbors =  4  es:  61.71 %\n",
      "Tasa de acierto con n_neighbors =  5  es:  62.13 %\n",
      "Tasa de acierto con n_neighbors =  6  es:  62.65 %\n",
      "Tasa de acierto con n_neighbors =  7  es:  63.23 %\n",
      "Tasa de acierto con n_neighbors =  8  es:  63.21 %\n",
      "Tasa de acierto con n_neighbors =  9  es:  63.37 %\n",
      "Tasa de acierto con n_neighbors =  10  es:  63.29 %\n",
      "Tasa de acierto con n_neighbors =  11  es:  63.28 %\n",
      "Tasa de acierto con n_neighbors =  12  es:  63.19 %\n",
      "Tasa de acierto con n_neighbors =  13  es:  63.47 %\n",
      "Tasa de acierto con n_neighbors =  14  es:  63.63 %\n",
      "Tasa de acierto con n_neighbors =  15  es:  63.61 %\n",
      "Tasa de acierto con n_neighbors =  16  es:  63.63 %\n",
      "Tasa de acierto con n_neighbors =  17  es:  63.82 %\n",
      "Tasa de acierto con n_neighbors =  18  es:  63.87 %\n",
      "Tasa de acierto con n_neighbors =  19  es:  63.6 %\n",
      "Tasa de acierto con n_neighbors =  20  es:  63.65 %\n"
     ]
    }
   ],
   "source": [
    "for i in range(1, 21):\n",
    "    clf = neighbors.KNeighborsClassifier(n_neighbors=i)\n",
    "    clf.fit(X_train_scaled, y_train)\n",
    "\n",
    "    accuracy = clf.score(X_test_scaled, y_test) * 100\n",
    "    print(\"Tasa de acierto con n_neighbors = \", i, \" es: \", round(accuracy,2), \"%\")"
   ]
  },
  {
   "attachments": {},
   "cell_type": "markdown",
   "metadata": {},
   "source": [
    "Claramente existe una diferencia significativa del 30% aproximadamente. Por lo que se demuestra que la tasa de acierto umenta si se realiza el escalado. Por tanto, es necesario escalar."
   ]
  },
  {
   "attachments": {},
   "cell_type": "markdown",
   "metadata": {},
   "source": [
    "4. Calcular el tiempo de ejecución del paso 3 para los tres algoritmos de búsqueda que implementa la clase, explicando los resultados obtenidos."
   ]
  },
  {
   "cell_type": "code",
   "execution_count": 6,
   "metadata": {},
   "outputs": [
    {
     "name": "stdout",
     "output_type": "stream",
     "text": [
      "Tiempo de ejecución para el algoritmo  brute  es: 66.736 seg.\n",
      "Tiempo de ejecución para el algoritmo  ball_tree  es: 126.094 seg.\n",
      "Tiempo de ejecución para el algoritmo  kd_tree  es: 48.966 seg.\n"
     ]
    }
   ],
   "source": [
    "algoritmos = ['brute', 'ball_tree', 'kd_tree']\n",
    "times = []\n",
    "for algoritmo in algoritmos:\n",
    "    incio = time.time()\n",
    "    for j in range(10):\n",
    "        for i in range(1, 21):\n",
    "            clf = neighbors.KNeighborsClassifier(n_neighbors=i, algorithm=algoritmo)\n",
    "            clf.fit(X_train_scaled, y_train)\n",
    "            clf.predict(X_test_scaled)\n",
    "        \n",
    "    fin = time.time()\n",
    "    times.append(fin - incio)\n",
    "\n",
    "for algoritmo in algoritmos:\n",
    "    print(\"Tiempo de ejecución para el algoritmo \", algoritmo, \" es: {:.3f} seg.\".format(times[algoritmos.index(algoritmo)]))\n"
   ]
  },
  {
   "attachments": {},
   "cell_type": "markdown",
   "metadata": {},
   "source": [
    "Sorprendentemente, el método en bruto que aparentemente debería durar mucho más debido a que calcula todas las distancias de todas las muestras, es el más rápido. Mientras que el método ball_tree el cual está planteado para mejorar la eficiencia computacional de manera recursiva es el que más tiempo lleva:"
   ]
  },
  {
   "attachments": {},
   "cell_type": "markdown",
   "metadata": {},
   "source": [
    "5. Obtener la mejor combinación del argumento weights y n_neighbors dividiendo el conjunto de entrenamiento nuevamente en entrenamiento (80%) y validación (20%), y obtener la tasa de acierto en el conjunto de test. Comparar el resultado con los obtenidos en el paso 3."
   ]
  },
  {
   "cell_type": "code",
   "execution_count": 7,
   "metadata": {},
   "outputs": [],
   "source": [
    "X_train_sub, X_test_sub, y_train_sub, y_test_sub = model_selection.train_test_split(X_train_scaled, y_train, test_size=0.2, random_state=123)"
   ]
  },
  {
   "cell_type": "code",
   "execution_count": 8,
   "metadata": {},
   "outputs": [
    {
     "name": "stdout",
     "output_type": "stream",
     "text": [
      "Mejor resultado:  ['distance', 13, 64.0484429065744]\n"
     ]
    }
   ],
   "source": [
    "weights = ['uniform', 'distance']\n",
    "results = []\n",
    "for weight in weights:\n",
    "    for i in range(1, 21):\n",
    "        clf = neighbors.KNeighborsClassifier(n_neighbors=i, weights=weight)\n",
    "        clf.fit(X_train_sub, y_train_sub)\n",
    "\n",
    "        accuracy = clf.score(X_test_sub, y_test_sub) * 100\n",
    "        results.append([weight, i, accuracy])\n",
    "\n",
    "best_result = max(results, key=lambda x: x[2])\n",
    "print(\"Mejor resultado: \", best_result)\n"
   ]
  },
  {
   "cell_type": "code",
   "execution_count": 9,
   "metadata": {},
   "outputs": [
    {
     "data": {
      "text/plain": [
       "<AxesSubplot: xlabel='k'>"
      ]
     },
     "execution_count": 9,
     "metadata": {},
     "output_type": "execute_result"
    },
    {
     "data": {
      "image/png": "[encoded data removed]",
      "text/plain": [
       "<Figure size 640x480 with 1 Axes>"
      ]
     },
     "metadata": {},
     "output_type": "display_data"
    }
   ],
   "source": [
    "\n",
    "df = pd.DataFrame(results, columns=['weight', 'k', 'accuracy'])\n",
    "df.pivot(index='k', columns='weight', values='accuracy').plot()"
   ]
  },
  {
   "attachments": {},
   "cell_type": "markdown",
   "metadata": {},
   "source": [
    "La mejor combinación del proceso ha sido con k = 13 y el método de distance."
   ]
  },
  {
   "cell_type": "code",
   "execution_count": 10,
   "metadata": {},
   "outputs": [
    {
     "name": "stdout",
     "output_type": "stream",
     "text": [
      "Tasa de acierto con n_neighbors = 13 es:  64.11 %\n"
     ]
    }
   ],
   "source": [
    "clf = neighbors.KNeighborsClassifier(n_neighbors=13, weights='distance')\n",
    "clf.fit(X_train_scaled, y_train)\n",
    "accuracy = clf.score(X_test_scaled, y_test) * 100\n",
    "print(\"Tasa de acierto con n_neighbors = 13 es: \", round(accuracy,2), \"%\")"
   ]
  },
  {
   "attachments": {},
   "cell_type": "markdown",
   "metadata": {},
   "source": [
    "Podemos concluir que esta tasa de acierto es mayor que las vistas en los pasos 2 y 3 por tanto, es conveniente que este algoritmo se entrene con subconjuntos de entrenamiento para proporcionar la mejor combinación posible."
   ]
  },
  {
   "attachments": {},
   "cell_type": "markdown",
   "metadata": {},
   "source": [
    "### Ejercicio 2. : Implementación del clasificador por centroide más próximo."
   ]
  },
  {
   "cell_type": "code",
   "execution_count": 11,
   "metadata": {},
   "outputs": [],
   "source": [
    "class CentroideMasProximo:\n",
    "\n",
    "    def __init__(self):\n",
    "        self.centroides = None\n",
    "        self.clases = None\n",
    "\n",
    "    def ajustar(self, X, y):\n",
    "        self.centroides = []\n",
    "        self.clases = np.unique(y)\n",
    "        \n",
    "        for clase in self.clases:\n",
    "            X_clase = X[y == clase]\n",
    "            centroide = np.mean(X_clase, axis=0)\n",
    "            self.centroides.append(centroide)\n",
    "\n",
    "    def predecir(self, X):\n",
    "        y_pred = []\n",
    "        for x in X:\n",
    "            distancias = []\n",
    "            for centroide in self.centroides:\n",
    "                distancia = np.linalg.norm(x - centroide)\n",
    "                distancias.append(distancia)\n",
    "            clase = self.clases[np.argmin(distancias)]\n",
    "            y_pred.append(clase)\n",
    "        return y_pred\n",
    "       "
   ]
  },
  {
   "attachments": {},
   "cell_type": "markdown",
   "metadata": {},
   "source": [
    "### Ejemplo de utilización nuestra clase y scikitlearn."
   ]
  },
  {
   "attachments": {},
   "cell_type": "markdown",
   "metadata": {},
   "source": [
    "1. Datos originales."
   ]
  },
  {
   "cell_type": "code",
   "execution_count": 12,
   "metadata": {},
   "outputs": [
    {
     "name": "stdout",
     "output_type": "stream",
     "text": [
      "Tasa de acierto con nuestro modelo es:  21.88 %\n",
      "Tasa de acierto con el modelo de sklearn es:  21.88 %\n"
     ]
    }
   ],
   "source": [
    "#Nuesrtro modelo.\n",
    "modelo = CentroideMasProximo()\n",
    "modelo.ajustar(X_train, y_train)\n",
    "y_pred = modelo.predecir(X_test)\n",
    "accuracy = np.mean(y_pred == y_test) * 100\n",
    "\n",
    "#Modelo de sklearn\n",
    "clf = neighbors.NearestCentroid()\n",
    "clf.fit(X_train, y_train)\n",
    "accuracy_sklearn = clf.score(X_test, y_test) * 100\n",
    "\n",
    "print(\"Tasa de acierto con nuestro modelo es: \", round(accuracy,2), \"%\")\n",
    "print(\"Tasa de acierto con el modelo de sklearn es: \", round(accuracy_sklearn,2), \"%\")"
   ]
  },
  {
   "attachments": {},
   "cell_type": "markdown",
   "metadata": {},
   "source": [
    "2. Datos escalados."
   ]
  },
  {
   "cell_type": "code",
   "execution_count": 13,
   "metadata": {},
   "outputs": [
    {
     "name": "stdout",
     "output_type": "stream",
     "text": [
      "Tasa de acierto con nuestro modelo es:  43.75 %\n",
      "Tasa de acierto con el modelo de sklearn es:  43.75 %\n"
     ]
    }
   ],
   "source": [
    "# Nuestro modelo\n",
    "modelo_esc = CentroideMasProximo()\n",
    "modelo_esc.ajustar(X_train_scaled, y_train)\n",
    "y_pred_esc = modelo_esc.predecir(X_test_scaled)\n",
    "accuracy_esc = np.mean(y_pred_esc == y_test) * 100\n",
    "\n",
    "# Modelo de sklearn\n",
    "clf_esc = neighbors.NearestCentroid()\n",
    "clf_esc.fit(X_train_scaled, y_train)\n",
    "y_pred_sklearn_esc = clf_esc.predict(X_test_scaled)\n",
    "accuracy_sklearn_esc = clf_esc.score(X_test_scaled, y_test) * 100\n",
    "\n",
    "print(\"Tasa de acierto con nuestro modelo es: \", round(accuracy_esc,2), \"%\")\n",
    "print(\"Tasa de acierto con el modelo de sklearn es: \", round(accuracy_sklearn_esc,2), \"%\")"
   ]
  },
  {
   "attachments": {},
   "cell_type": "markdown",
   "metadata": {},
   "source": [
    "El método de la librería y el nuestro propio tienen tasas de acierto parecidas. Sin embargo, este método por centroide tiene una menor tasa de acierto que el método KNN."
   ]
  },
  {
   "attachments": {},
   "cell_type": "markdown",
   "metadata": {},
   "source": [
    "3. Matriz de confusión."
   ]
  },
  {
   "cell_type": "code",
   "execution_count": 14,
   "metadata": {},
   "outputs": [
    {
     "data": {
      "image/png": "[encoded data removed]",
      "text/plain": [
       "<Figure size 1000x500 with 4 Axes>"
      ]
     },
     "metadata": {},
     "output_type": "display_data"
    }
   ],
   "source": [
    "\n",
    "fig, (ax1, ax2) = plt.subplots(1, 2, figsize=(10, 5))\n",
    "confusion_matrix = metrics.confusion_matrix(y_test, y_pred_esc)\n",
    "cm_display = metrics.ConfusionMatrixDisplay(confusion_matrix, display_labels=modelo_esc.clases).plot(ax=ax1)\n",
    "\n",
    "confusion_matrix = metrics.confusion_matrix(y_test, y_pred_sklearn_esc)\n",
    "cm_display = metrics.ConfusionMatrixDisplay(confusion_matrix, display_labels=clf_esc.classes_).plot(ax=ax2)\n",
    "plt.tight_layout()\n",
    "plt.show()"
   ]
  },
  {
   "attachments": {},
   "cell_type": "markdown",
   "metadata": {},
   "source": [
    "La matriz de la izquierda es la de nuestra clase implementada y la de la derecha la clase de la librería scikit-learn. Podemos concluir que ambas clases no son muy buenas ya que los valores por columnas en su mayoría no son los clasificados correctamente."
   ]
  }
 ],
 "metadata": {
  "kernelspec": {
   "display_name": "aa1",
   "language": "python",
   "name": "python3"
  },
  "language_info": {
   "codemirror_mode": {
    "name": "ipython",
    "version": 3
   },
   "file_extension": ".py",
   "mimetype": "text/x-python",
   "name": "python",
   "nbconvert_exporter": "python",
   "pygments_lexer": "ipython3",
   "version": "3.10.9"
  },
  "orig_nbformat": 4
 },
 "nbformat": 4,
 "nbformat_minor": 2
}
