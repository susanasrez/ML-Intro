{
 "cells": [
  {
   "cell_type": "markdown",
   "id": "9a776445",
   "metadata": {},
   "source": [
    "# Práctica 2: Regresión lineal.\n",
    "\n",
    "## Realizado por:\n",
    "- Susana Suárez Mendoza\n",
    "- Mara Pareja del Pino\n"
   ]
  },
  {
   "cell_type": "code",
   "execution_count": 1,
   "id": "1dceb649",
   "metadata": {},
   "outputs": [],
   "source": [
    "from sklearn import model_selection,linear_model,metrics\n",
    "import numpy as np\n",
    "import pandas as pd\n",
    "import matplotlib.pyplot as plt"
   ]
  },
  {
   "cell_type": "markdown",
   "id": "cf0eb0f5",
   "metadata": {},
   "source": [
    "## Descripción del conjunto de datos. Convertir a minutos."
   ]
  },
  {
   "cell_type": "code",
   "execution_count": 2,
   "id": "074d9e9d",
   "metadata": {},
   "outputs": [],
   "source": [
    "data_csv = pd.read_csv('./tiempos.csv', sep = ';')\n",
    "\n",
    "#Matriz de los datos convertidos.\n",
    "data = np.empty((data_csv.shape[0],data_csv.shape[1]))\n",
    "    \n",
    "#Conversión a minutos.\n",
    "for i in range(len(data_csv)):\n",
    "    conversion = []\n",
    "    for item in data_csv.iloc[i]:\n",
    "        times = item.split(':')\n",
    "        minute = int(times[0]) * 60 + int(times[1])\n",
    "        conversion.append(minute)\n",
    "    data[i] = conversion"
   ]
  },
  {
   "cell_type": "code",
   "execution_count": 3,
   "id": "4dfccf95",
   "metadata": {},
   "outputs": [
    {
     "data": {
      "text/plain": [
       "array([[172., 254., 356., ..., 514., 636., 703.],\n",
       "       [163., 253., 371., ..., 556., 674., 738.],\n",
       "       [188., 279., 389., ..., 580., 728., 803.],\n",
       "       ...,\n",
       "       [208., 329., 452., ..., 659., 797., 875.],\n",
       "       [139., 206., 283., ..., 410., 516., 575.],\n",
       "       [201., 306., 443., ..., 684., 856., 943.]])"
      ]
     },
     "execution_count": 3,
     "metadata": {},
     "output_type": "execute_result"
    }
   ],
   "source": [
    "#Array resultante.\n",
    "data"
   ]
  },
  {
   "cell_type": "markdown",
   "id": "457ad18e",
   "metadata": {},
   "source": [
    "## Ejercicio 1. Estimación por regresión lineal."
   ]
  },
  {
   "cell_type": "markdown",
   "id": "2e3d05cc",
   "metadata": {},
   "source": [
    "### 1. División del conjunto de entrenamiento."
   ]
  },
  {
   "cell_type": "code",
   "execution_count": 4,
   "id": "2243c12a",
   "metadata": {},
   "outputs": [],
   "source": [
    "data_x = data[:, 0:len(data[0])-1]\n",
    "data_y = data[:, len(data[0])-1:len(data[0])]\n",
    "\n",
    "#Función train_test_split.\n",
    "x_train, x_test, y_train, y_test = model_selection.train_test_split(data_x, data_y, test_size=0.30, \n",
    "                                                                    train_size = 0.70, random_state=42)"
   ]
  },
  {
   "cell_type": "markdown",
   "id": "ed9a77f3",
   "metadata": {},
   "source": [
    "### 2. Regresión lineal."
   ]
  },
  {
   "cell_type": "code",
   "execution_count": 5,
   "id": "eabd4292",
   "metadata": {},
   "outputs": [
    {
     "name": "stdout",
     "output_type": "stream",
     "text": [
      "Coeficientes de las muestras centradas en la media:\n",
      " [13.16667834 -0.06995518 -0.15491091 -0.35133136  0.45460967 -0.49426652\n",
      "  1.48324716]\n",
      "Coeficientes de las muestras no centradas en la media:\n",
      " [ 0.          0.18542743 -0.37427048 -0.14683954  0.34347353 -0.50856613\n",
      "  1.48586651]\n"
     ]
    }
   ],
   "source": [
    "#Caso 1. fit_intercept = True. Muestras centradas en la media.\n",
    "reg = linear_model.LinearRegression().fit(x_train, y_train)\n",
    "pesos = reg.coef_\n",
    "interseccion = reg.intercept_\n",
    "coef1 = np.append(interseccion, pesos)\n",
    "\n",
    "#Caso 2. fit_intercept = False. Muestras no centradas en la media.\n",
    "reg_new = linear_model.LinearRegression(fit_intercept=False)\n",
    "reg2 = reg_new.fit(x_train, y_train)\n",
    "pesos2 = reg2.coef_\n",
    "interseccion2 = reg2.intercept_\n",
    "coef2 = np.append(interseccion2, pesos2)\n",
    "\n",
    "print('Coeficientes de las muestras centradas en la media:\\n',coef1)\n",
    "print('Coeficientes de las muestras no centradas en la media:\\n',coef2)"
   ]
  },
  {
   "cell_type": "markdown",
   "id": "fc2e8ec1",
   "metadata": {},
   "source": [
    "### 3. Predicción."
   ]
  },
  {
   "cell_type": "code",
   "execution_count": 6,
   "id": "2cdae80d",
   "metadata": {},
   "outputs": [],
   "source": [
    "#Caso 1.\n",
    "y_pred = reg.predict(x_test)\n",
    "\n",
    "#Caso 2.\n",
    "y_pred2 = reg2.predict(x_test)"
   ]
  },
  {
   "cell_type": "markdown",
   "id": "dc300f13",
   "metadata": {},
   "source": [
    "### 4. Error cuadrático medio."
   ]
  },
  {
   "cell_type": "code",
   "execution_count": 7,
   "id": "340e777d",
   "metadata": {},
   "outputs": [
    {
     "name": "stdout",
     "output_type": "stream",
     "text": [
      "Error cuadrático medio  de las muestras centradas en la media:  11.25288458631641\n",
      "Error cuadrático medio  de las muestras no centradas en la media:  10.694054990052388\n"
     ]
    }
   ],
   "source": [
    "#Caso 1.\n",
    "error1 = metrics.mean_squared_error(y_test, y_pred, squared = False)\n",
    "\n",
    "#Caso 2.\n",
    "error2 = metrics.mean_squared_error(y_test, y_pred2, squared = False)\n",
    "\n",
    "print('Error cuadrático medio  de las muestras centradas en la media: ', error1)\n",
    "print('Error cuadrático medio  de las muestras no centradas en la media: ', error2)"
   ]
  },
  {
   "cell_type": "markdown",
   "id": "3ae19c93",
   "metadata": {},
   "source": [
    "### 5. Gráfico de barras."
   ]
  },
  {
   "cell_type": "code",
   "execution_count": 8,
   "id": "d5c9d581",
   "metadata": {},
   "outputs": [
    {
     "data": {
      "image/png": "[encoded data removed]",
      "text/plain": [
       "<Figure size 640x480 with 1 Axes>"
      ]
     },
     "metadata": {},
     "output_type": "display_data"
    }
   ],
   "source": [
    "etiquetas = ['w0','w1', 'w2', 'w3', 'w4', 'w5', 'w6']\n",
    "x = np.array(range(7))\n",
    "\n",
    "ax = plt.subplot(111)\n",
    "ax.bar(x, coef1, width=0.4, color='yellow')\n",
    "ax.bar(x-0.4, coef2, width=0.4, color='green')\n",
    "ax.set_xlabel('X')\n",
    "ax.set_ylabel('Y')\n",
    "ax.set_xticks(x-0.2, etiquetas)\n",
    "ax.legend(['Muestras centradas en la media', 'Muestras no centradas en la media'])\n",
    "ax.set_title('Gráfico de Barras de los coeficientes.')\n",
    "ax.grid()\n",
    "plt.show()"
   ]
  },
  {
   "cell_type": "markdown",
   "id": "3cb3cc94",
   "metadata": {},
   "source": [
    "## Ejercicio 2. Estimación por regresión lineal con regularización."
   ]
  },
  {
   "cell_type": "markdown",
   "id": "424b5c18",
   "metadata": {},
   "source": [
    "### 1. División del conjunto de entrenamiento."
   ]
  },
  {
   "cell_type": "code",
   "execution_count": 9,
   "id": "edd85d24",
   "metadata": {},
   "outputs": [],
   "source": [
    "data_x = data[:, 0:len(data[0])-1]\n",
    "data_y = data[:, len(data[0])-1:len(data[0])]\n",
    "\n",
    "#Función train_test_split\n",
    "x_train, x_test, y_train, y_test = model_selection.train_test_split(data_x, data_y, test_size=0.30, \n",
    "                                                                    train_size = 0.70, random_state=42)"
   ]
  },
  {
   "cell_type": "markdown",
   "id": "2aa16099",
   "metadata": {},
   "source": [
    "### 2. Modelo de regresión lineal con regularización Ridge."
   ]
  },
  {
   "cell_type": "code",
   "execution_count": 10,
   "id": "c25f8c00",
   "metadata": {},
   "outputs": [
    {
     "name": "stdout",
     "output_type": "stream",
     "text": [
      "Coeficientes para los distintos lambdas: \n",
      "\n",
      "13.164412967798285  -0.06984825947962635  -0.15518503701860542  -0.3502723062041585  0.4536488552476753  -0.4941364204286391  1.4832122362565383\n",
      "12.983242459348048  -0.06647430791880067  -0.1896956293750949  -0.1092739661355189  0.20878484370884634  -0.4282892884103761  1.455708311907798\n",
      "12.682421599737381  -0.09988495915928927  -0.13330946204363284  -0.04788436634838679  0.039039261121706706  -0.2003813626985678  1.326508057203429\n",
      "13.153373570864233  -0.06932841154263776  -0.1565252769587788  -0.3450674124951506  0.44892117864294945  -0.49348997615282525  1.4830367994857716\n",
      "\n",
      "\n",
      "Errores para los distintos lambdas: \n",
      "\n",
      "11.252507637809154  \n",
      "11.193136894396183  \n",
      "11.334284721625144  \n",
      "11.250664054196838  \n"
     ]
    }
   ],
   "source": [
    "#Caso 1. fit_intercept = True. Muestras centradas en la media.\n",
    "lambda_ridge = [1, 700, 5000, 6]\n",
    "regresiones = []\n",
    "errores = []\n",
    "\n",
    "for item in lambda_ridge:\n",
    "    clf = linear_model.Ridge(alpha=item)\n",
    "    reg = clf.fit(x_train, y_train)\n",
    "    pesos = reg.coef_\n",
    "    interc= reg.intercept_\n",
    "    coef = np.append(interc, pesos)\n",
    "    regresiones.append(coef)\n",
    "    \n",
    "    y_pred = reg.predict(x_test)\n",
    "    error = metrics.mean_squared_error(y_test, y_pred, squared = False)\n",
    "    errores.append(error)\n",
    "\n",
    "print('Coeficientes para los distintos lambdas: \\n')\n",
    "for line in regresiones:\n",
    "    print('  '.join(map(str, line)))\n",
    "print('\\n\\nErrores para los distintos lambdas: \\n')\n",
    "for err in errores:\n",
    "    print(err, ' ')"
   ]
  },
  {
   "cell_type": "code",
   "execution_count": 11,
   "id": "5c944812",
   "metadata": {},
   "outputs": [
    {
     "name": "stdout",
     "output_type": "stream",
     "text": [
      "Coeficientes para los distintos lambdas: \n",
      "\n",
      "0.0  0.18534508877271624  -0.3742494548976234  -0.14638020846435384  0.3430023884806864  -0.5084598406922021  1.4858206402838057\n",
      "0.0  0.1264547159809  -0.32076366312080695  -0.03882545311934851  0.20470058537764607  -0.44803707313817154  1.4543044809494035\n",
      "0.0  -0.005208112103311905  -0.16404615335436665  -0.022460365676432215  0.06034807637269066  -0.21724357201286884  1.3181583048460872\n",
      "0.0  0.184931042372678  -0.37413510120654564  -0.144120667017531  0.3406790959366435  -0.5079303986789298  1.4855910922566238\n",
      "\n",
      "\n",
      "Errores para los distintos lambdas: \n",
      "\n",
      "10.693981400381228  \n",
      "10.692886293762832  \n",
      "10.982774544773877  \n",
      "10.693620988185286  \n"
     ]
    }
   ],
   "source": [
    "#Caso 2. fit_intercept = False. Muestras no centradas en la media.\n",
    "regresiones2 = []\n",
    "errores2 = []\n",
    "\n",
    "for item in lambda_ridge:\n",
    "    clf2 = linear_model.Ridge(alpha=item, fit_intercept=False)\n",
    "    reg2 = clf2.fit(x_train, y_train)\n",
    "    pesos2 = reg2.coef_\n",
    "    interc2= reg2.intercept_\n",
    "    coef2 = np.append(interc2, pesos2)\n",
    "    regresiones2.append(coef2)\n",
    "    \n",
    "    y_pred2 = reg2.predict(x_test)\n",
    "    error2 = metrics.mean_squared_error(y_test, y_pred2, squared = False)\n",
    "    errores2.append(error2)\n",
    "\n",
    "print('Coeficientes para los distintos lambdas: \\n')\n",
    "for line in regresiones2:\n",
    "    print ('  '.join(map(str, line)))\n",
    "print('\\n\\nErrores para los distintos lambdas: \\n')\n",
    "for err in errores2:\n",
    "    print(err, ' ')"
   ]
  },
  {
   "cell_type": "markdown",
   "id": "06c6f1c9",
   "metadata": {},
   "source": [
    "### 2. Gráfico con valores de lambda."
   ]
  },
  {
   "cell_type": "code",
   "execution_count": 12,
   "id": "b2202200",
   "metadata": {},
   "outputs": [
    {
     "data": {
      "image/png": "[encoded data removed]",
      "text/plain": [
       "<Figure size 640x480 with 1 Axes>"
      ]
     },
     "metadata": {},
     "output_type": "display_data"
    }
   ],
   "source": [
    "#Caso 1. \n",
    "x1 = regresiones[0] #lambda = 1\n",
    "x2 = regresiones[1] #lambda = 700\n",
    "\n",
    "#caso 2.\n",
    "x3 = regresiones2[0] #lambda = 1\n",
    "x4 = regresiones2[1] #lambda = 700\n",
    "\n",
    "etiquetas = ['w0','w1', 'w2', 'w3', 'w4', 'w5', 'w6']\n",
    "x = np.array(range(7))\n",
    "\n",
    "ax = plt.subplot(111)\n",
    "ax.bar(x, x1, width=0.2, color='blue')\n",
    "ax.bar(x-0.2, x2, width=0.2, color='red')\n",
    "ax.bar(x-0.4, x3, width=0.2, color='green')\n",
    "ax.bar(x-0.6, x4, width=0.2, color='yellow')\n",
    "ax.set_xlabel('X')\n",
    "ax.set_ylabel('Y')\n",
    "ax.set_xticks(x-0.3, etiquetas)\n",
    "ax.legend(['intercept = True, lambda = 1', 'intercept = True, lambda = 700', 'intercept = False, lambda = 1', 'intercept = False, lambda = 700'])\n",
    "ax.set_title('Gráfico de Barras de los coeficientes. L2')\n",
    "ax.grid()\n",
    "plt.show()"
   ]
  },
  {
   "cell_type": "markdown",
   "id": "28926472",
   "metadata": {},
   "source": [
    "### 3. Modelo de regresión lineal con regularización con Lasso."
   ]
  },
  {
   "cell_type": "code",
   "execution_count": 13,
   "id": "1627632d",
   "metadata": {},
   "outputs": [
    {
     "name": "stdout",
     "output_type": "stream",
     "text": [
      "Coeficientes para los distintos lambdas: \n",
      "\n",
      "12.215118097371715  -0.014130666945431178  -0.23675711088431892  -0.0  0.11526716289349591  -0.452745215572976  1.4765626786729136\n",
      "17.458475424636845  0.0  0.0  0.0  0.0  0.0  1.0827915797576002\n",
      "155.4545964273027  0.0  0.0  0.0  0.0  0.0  0.9067232776677383\n",
      "11.924733680286408  -0.0  -0.1579306432119239  -0.0  0.0  -0.35268868769646666  1.4301829184693278\n",
      "\n",
      "\n",
      "Errores para los distintos lambdas: \n",
      "\n",
      "11.144452413819074  \n",
      "12.354103972092158  \n",
      "34.705109356179754  \n",
      "11.15556088769302  \n"
     ]
    }
   ],
   "source": [
    "#Caso 1. fit_intercept = True. Muestras centradas en la media.\n",
    "lambda_lasso = [1, 700, 5000, 6]\n",
    "regresiones = []\n",
    "errores = []\n",
    "\n",
    "for item in lambda_lasso:\n",
    "    clf = linear_model.Lasso(alpha=item)\n",
    "    reg = clf.fit(x_train, y_train)\n",
    "    pesos = reg.coef_\n",
    "    interc= reg.intercept_\n",
    "    coef = np.append(interc, pesos)\n",
    "    regresiones.append(coef)\n",
    "    \n",
    "    y_pred = reg.predict(x_test)\n",
    "    error = metrics.mean_squared_error(y_test, y_pred, squared = False)\n",
    "    errores.append(error)\n",
    "    \n",
    "print('Coeficientes para los distintos lambdas: \\n')\n",
    "for line in regresiones:\n",
    "    print('  '.join(map(str, line)))\n",
    "print('\\n\\nErrores para los distintos lambdas: \\n')\n",
    "for err in errores:\n",
    "    print(err, ' ')"
   ]
  },
  {
   "cell_type": "code",
   "execution_count": 14,
   "id": "9c05ab13",
   "metadata": {},
   "outputs": [
    {
     "name": "stdout",
     "output_type": "stream",
     "text": [
      "Coeficientes para los distintos lambdas: \n",
      "\n",
      "0.0  -2.028041813912654  0.6188964983227007  0.3126674505416024  0.15260790717134473  0.6129844908497659  0.6311601528643597\n",
      "0.0  0.0  0.0  0.0  0.0  0.29713005830501416  0.8681888532577798\n",
      "0.0  0.0  0.0  0.0  0.0  0.0  1.0974826678408705\n",
      "0.0  -1.9435737329261553  0.5355392426897349  0.3210754722365682  0.15380903560225065  0.6173948145786852  0.6331082327942628\n",
      "\n",
      "\n",
      "Errores para los distintos lambdas: \n",
      "\n",
      "20.646579759145226  \n",
      "13.912893370654771  \n",
      "12.1179154181751  \n",
      "20.38178928192983  \n"
     ]
    },
    {
     "name": "stderr",
     "output_type": "stream",
     "text": [
      "C:\\Users\\Susana\\anaconda3\\envs\\aa1\\lib\\site-packages\\sklearn\\linear_model\\_coordinate_descent.py:634: ConvergenceWarning: Objective did not converge. You might want to increase the number of iterations, check the scale of the features or consider increasing regularisation. Duality gap: 4.478e+04, tolerance: 1.460e+04\n",
      "  model = cd_fast.enet_coordinate_descent(\n",
      "C:\\Users\\Susana\\anaconda3\\envs\\aa1\\lib\\site-packages\\sklearn\\linear_model\\_coordinate_descent.py:634: ConvergenceWarning: Objective did not converge. You might want to increase the number of iterations, check the scale of the features or consider increasing regularisation. Duality gap: 1.685e+04, tolerance: 1.460e+04\n",
      "  model = cd_fast.enet_coordinate_descent(\n",
      "C:\\Users\\Susana\\anaconda3\\envs\\aa1\\lib\\site-packages\\sklearn\\linear_model\\_coordinate_descent.py:634: ConvergenceWarning: Objective did not converge. You might want to increase the number of iterations, check the scale of the features or consider increasing regularisation. Duality gap: 4.642e+04, tolerance: 1.460e+04\n",
      "  model = cd_fast.enet_coordinate_descent(\n"
     ]
    }
   ],
   "source": [
    "#Caso 2. fit_intercept = False. Muestras no centradas en la media.\n",
    "regresiones2 = []\n",
    "errores2 = []\n",
    "\n",
    "for item in lambda_lasso:\n",
    "    clf2 = linear_model.Lasso(alpha=item, fit_intercept=False)\n",
    "    reg2 = clf2.fit(x_train, y_train)\n",
    "    pesos2 = reg2.coef_\n",
    "    interc2= reg2.intercept_\n",
    "    coef2 = np.append(interc2, pesos2)\n",
    "    regresiones2.append(coef2)\n",
    "    \n",
    "    y_pred2 = reg2.predict(x_test)\n",
    "    error2 = metrics.mean_squared_error(y_test, y_pred2, squared = False)\n",
    "    errores2.append(error2)\n",
    "\n",
    "print('Coeficientes para los distintos lambdas: \\n')\n",
    "for line in regresiones2:\n",
    "    print ('  '.join(map(str, line)))\n",
    "print('\\n\\nErrores para los distintos lambdas: \\n')\n",
    "for err in errores2:\n",
    "    print(err, ' ')"
   ]
  },
  {
   "cell_type": "markdown",
   "id": "8bac16b9",
   "metadata": {},
   "source": [
    "### 4. Gráfico con valores de lambda."
   ]
  },
  {
   "cell_type": "code",
   "execution_count": 15,
   "id": "79d8069f",
   "metadata": {},
   "outputs": [
    {
     "data": {
      "image/png": "[encoded data removed]",
      "text/plain": [
       "<Figure size 640x480 with 1 Axes>"
      ]
     },
     "metadata": {},
     "output_type": "display_data"
    }
   ],
   "source": [
    "#Caso 1. \n",
    "x1 = regresiones[0] #lambda = 1\n",
    "x2 = regresiones[1] #lambda = 700\n",
    "\n",
    "#caso 2.\n",
    "x3 = regresiones2[0] #lambda = 1\n",
    "x4 = regresiones2[1] #lambda = 700\n",
    "\n",
    "etiquetas = ['w0','w1', 'w2', 'w3', 'w4', 'w5', 'w6']\n",
    "x = np.array(range(7))\n",
    "\n",
    "ax = plt.subplot(111)\n",
    "ax.bar(x, x1, width=0.2, color='blue')\n",
    "ax.bar(x-0.2, x2, width=0.2, color='red')\n",
    "ax.bar(x-0.4, x3, width=0.2, color='green')\n",
    "ax.bar(x-0.6, x4, width=0.2, color='yellow')\n",
    "ax.set_xlabel('X')\n",
    "ax.set_ylabel('Y')\n",
    "ax.set_xticks(x-0.3, etiquetas)\n",
    "ax.legend(['intercept = True, lambda = 1', 'intercept = True, lambda = 700', 'intercept = False, lambda = 1', 'intercept = False, lambda = 700'])\n",
    "ax.set_title('Gráfico de Barras de los coeficientes. L1')\n",
    "ax.grid()\n",
    "plt.show()"
   ]
  },
  {
   "cell_type": "markdown",
   "id": "8834ee54",
   "metadata": {},
   "source": [
    "### Conclusiones.\n",
    "En el método de regularización **Lasso** podemos observar que en muchos casos de lambda hay bastantes pesos que son nulos ya que este modelo fuerza a que los coeficientes de los predictores tiendan a cero así consigue excluir los predictores menos relevantes.\n",
    "Mientras que en el método **Ridge** lo que se hace es  reducir de forma proporcional el valor de todos los coeficientes del modelo pero sin que estos lleguen a cero.\n",
    "\n",
    "**Lasso** supone una ventaja notable en escenarios donde no todos los predictores son importantes para el modelo y se desea que los menos influyentes queden excluidos.Mientras que cuando existen predictores altamente correlacionados linealmente, **Ridge** reduce la influencia de todos ellos a la vez y de forma proporcional."
   ]
  }
 ],
 "metadata": {
  "kernelspec": {
   "display_name": "Python 3 (ipykernel)",
   "language": "python",
   "name": "python3"
  },
  "language_info": {
   "codemirror_mode": {
    "name": "ipython",
    "version": 3
   },
   "file_extension": ".py",
   "mimetype": "text/x-python",
   "name": "python",
   "nbconvert_exporter": "python",
   "pygments_lexer": "ipython3",
   "version": "3.10.9"
  }
 },
 "nbformat": 4,
 "nbformat_minor": 5
}
